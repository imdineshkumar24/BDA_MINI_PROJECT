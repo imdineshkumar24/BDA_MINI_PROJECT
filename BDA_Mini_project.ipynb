{
  "nbformat": 4,
  "nbformat_minor": 0,
  "metadata": {
    "colab": {
      "provenance": []
    },
    "kernelspec": {
      "name": "python3",
      "display_name": "Python 3"
    },
    "language_info": {
      "name": "python"
    }
  },
  "cells": [
    {
      "cell_type": "markdown",
      "source": [
        "# Classification of car's acceptability"
      ],
      "metadata": {
        "id": "AN47UvbJaPsA"
      }
    },
    {
      "cell_type": "code",
      "execution_count": null,
      "metadata": {
        "colab": {
          "base_uri": "https://localhost:8080/"
        },
        "id": "wKi3HcSohSf6",
        "outputId": "9b2ebf6b-1a80-4e4f-a134-b780d7fde480"
      },
      "outputs": [
        {
          "output_type": "stream",
          "name": "stdout",
          "text": [
            "\u001b[2K     \u001b[90m━━━━━━━━━━━━━━━━━━━━━━━━━━━━━━━━━━━━━━━━\u001b[0m \u001b[32m316.9/316.9 MB\u001b[0m \u001b[31m4.5 MB/s\u001b[0m eta \u001b[36m0:00:00\u001b[0m\n",
            "\u001b[?25h  Preparing metadata (setup.py) ... \u001b[?25l\u001b[?25hdone\n",
            "  Building wheel for pyspark (setup.py) ... \u001b[?25l\u001b[?25hdone\n"
          ]
        }
      ],
      "source": [
        "!pip -q install pyspark"
      ]
    },
    {
      "cell_type": "code",
      "source": [
        "from pyspark.sql import SparkSession"
      ],
      "metadata": {
        "id": "EjIVpLjkiU2h"
      },
      "execution_count": null,
      "outputs": []
    },
    {
      "cell_type": "code",
      "source": [
        "spark = SparkSession.builder.master(\"local\").appName('mini_projecr').getOrCreate()"
      ],
      "metadata": {
        "id": "5aWE7LYsifAk"
      },
      "execution_count": null,
      "outputs": []
    },
    {
      "cell_type": "code",
      "source": [
        "df=spark.read.csv(\"/content/car.csv\",header=True,inferSchema=True)\n",
        "df.show(10,truncate=False)"
      ],
      "metadata": {
        "colab": {
          "base_uri": "https://localhost:8080/"
        },
        "id": "TQytI6nUirI7",
        "outputId": "d6ce25be-ca4a-41d6-c479-34b57c90d50b"
      },
      "execution_count": null,
      "outputs": [
        {
          "output_type": "stream",
          "name": "stdout",
          "text": [
            "+------------+-----------------+-----------+---------------+---------------+------+-----------------+\n",
            "|Buying_Price|Maintenance_Price|No_of_Doors|Person_Capacity|Size_of_Luggage|Safety|Car_Acceptability|\n",
            "+------------+-----------------+-----------+---------------+---------------+------+-----------------+\n",
            "|vhigh       |vhigh            |2          |2              |small          |low   |unacc            |\n",
            "|vhigh       |vhigh            |2          |2              |small          |med   |unacc            |\n",
            "|vhigh       |vhigh            |2          |2              |small          |high  |unacc            |\n",
            "|vhigh       |vhigh            |2          |2              |med            |low   |unacc            |\n",
            "|vhigh       |vhigh            |2          |2              |med            |med   |unacc            |\n",
            "|vhigh       |vhigh            |2          |2              |med            |high  |unacc            |\n",
            "|vhigh       |vhigh            |2          |2              |big            |low   |unacc            |\n",
            "|vhigh       |vhigh            |2          |2              |big            |med   |unacc            |\n",
            "|vhigh       |vhigh            |2          |2              |big            |high  |unacc            |\n",
            "|vhigh       |vhigh            |2          |4              |small          |low   |unacc            |\n",
            "+------------+-----------------+-----------+---------------+---------------+------+-----------------+\n",
            "only showing top 10 rows\n",
            "\n"
          ]
        }
      ]
    },
    {
      "cell_type": "code",
      "source": [
        "for i in df.columns:\n",
        "  print(i)"
      ],
      "metadata": {
        "colab": {
          "base_uri": "https://localhost:8080/"
        },
        "id": "TdfgpsIXfUeE",
        "outputId": "d5f68f9c-c2a4-444f-a4bf-935819609c40"
      },
      "execution_count": null,
      "outputs": [
        {
          "output_type": "stream",
          "name": "stdout",
          "text": [
            "Buying_Price\n",
            "Maintenance_Price\n",
            "No_of_Doors\n",
            "Person_Capacity\n",
            "Size_of_Luggage\n",
            "Safety\n",
            "Car_Acceptability\n"
          ]
        }
      ]
    },
    {
      "cell_type": "code",
      "source": [
        "(df.count(), len(df.columns))"
      ],
      "metadata": {
        "colab": {
          "base_uri": "https://localhost:8080/"
        },
        "id": "g7R_YYGeZbQE",
        "outputId": "28d9d0c9-0234-49a0-92e2-eab082871d11"
      },
      "execution_count": null,
      "outputs": [
        {
          "output_type": "execute_result",
          "data": {
            "text/plain": [
              "(13824, 7)"
            ]
          },
          "metadata": {},
          "execution_count": 7
        }
      ]
    },
    {
      "cell_type": "code",
      "source": [
        "df.printSchema()"
      ],
      "metadata": {
        "colab": {
          "base_uri": "https://localhost:8080/"
        },
        "id": "P97n__wTneZ_",
        "outputId": "832505c4-dc5f-45b9-e73c-33666dca1a3a"
      },
      "execution_count": null,
      "outputs": [
        {
          "output_type": "stream",
          "name": "stdout",
          "text": [
            "root\n",
            " |-- Buying_Price: string (nullable = true)\n",
            " |-- Maintenance_Price: string (nullable = true)\n",
            " |-- No_of_Doors: string (nullable = true)\n",
            " |-- Person_Capacity: string (nullable = true)\n",
            " |-- Size_of_Luggage: string (nullable = true)\n",
            " |-- Safety: string (nullable = true)\n",
            " |-- Car_Acceptability: string (nullable = true)\n",
            "\n"
          ]
        }
      ]
    },
    {
      "cell_type": "code",
      "source": [
        "from pyspark.sql.types import *\n",
        "from pyspark.sql.functions import *\n",
        "from pyspark.ml.feature import *"
      ],
      "metadata": {
        "id": "woZlAlXjllRV"
      },
      "execution_count": null,
      "outputs": []
    },
    {
      "cell_type": "code",
      "source": [
        "from pyspark.ml.feature import VectorAssembler\n",
        "from pyspark.ml.classification import RandomForestClassifier\n",
        "from pyspark.ml.evaluation import BinaryClassificationEvaluator"
      ],
      "metadata": {
        "id": "j0oET2z3iImt"
      },
      "execution_count": null,
      "outputs": []
    },
    {
      "cell_type": "code",
      "source": [
        "col = [StructField('Buying_Price',StringType(),True),\\\n",
        "       StructField('Maintenance_Price',StringType(),True),\\\n",
        "       StructField('Doors',IntegerType(),True),\\\n",
        "       StructField('Persons',IntegerType(),True),\\\n",
        "       StructField('Luggages',StringType(),True),\\\n",
        "       StructField('Safety',StringType(),True),\\\n",
        "       StructField('Acceptability',StringType(),True)]"
      ],
      "metadata": {
        "id": "VJNZUsNJn4hv"
      },
      "execution_count": null,
      "outputs": []
    },
    {
      "cell_type": "code",
      "source": [
        "schema = StructType(col)"
      ],
      "metadata": {
        "id": "rDv2_ZB_pD_m"
      },
      "execution_count": null,
      "outputs": []
    },
    {
      "cell_type": "code",
      "source": [
        "df=spark.read.csv(\"/content/car.csv\",header=True,inferSchema=True,schema=schema)\n",
        "df.show(5,truncate=False)"
      ],
      "metadata": {
        "colab": {
          "base_uri": "https://localhost:8080/"
        },
        "id": "PsaAg8SfpIO9",
        "outputId": "297f2cef-f70f-41ca-a04f-1bf401cb7a0e"
      },
      "execution_count": null,
      "outputs": [
        {
          "output_type": "stream",
          "name": "stdout",
          "text": [
            "+------------+-----------------+-----+-------+--------+------+-------------+\n",
            "|Buying_Price|Maintenance_Price|Doors|Persons|Luggages|Safety|Acceptability|\n",
            "+------------+-----------------+-----+-------+--------+------+-------------+\n",
            "|vhigh       |vhigh            |2    |2      |small   |low   |unacc        |\n",
            "|vhigh       |vhigh            |2    |2      |small   |med   |unacc        |\n",
            "|vhigh       |vhigh            |2    |2      |small   |high  |unacc        |\n",
            "|vhigh       |vhigh            |2    |2      |med     |low   |unacc        |\n",
            "|vhigh       |vhigh            |2    |2      |med     |med   |unacc        |\n",
            "+------------+-----------------+-----+-------+--------+------+-------------+\n",
            "only showing top 5 rows\n",
            "\n"
          ]
        }
      ]
    },
    {
      "cell_type": "code",
      "source": [
        "df.printSchema()"
      ],
      "metadata": {
        "colab": {
          "base_uri": "https://localhost:8080/"
        },
        "id": "g9UbKwfCpP8P",
        "outputId": "4de19a9b-42dc-46ba-d2fe-2a3b1a21b545"
      },
      "execution_count": null,
      "outputs": [
        {
          "output_type": "stream",
          "name": "stdout",
          "text": [
            "root\n",
            " |-- Buying_Price: string (nullable = true)\n",
            " |-- Maintenance_Price: string (nullable = true)\n",
            " |-- Doors: integer (nullable = true)\n",
            " |-- Persons: integer (nullable = true)\n",
            " |-- Luggages: string (nullable = true)\n",
            " |-- Safety: string (nullable = true)\n",
            " |-- Acceptability: string (nullable = true)\n",
            "\n"
          ]
        }
      ]
    },
    {
      "cell_type": "code",
      "source": [
        "null_value_list = list()\n",
        "for col_ in df.columns:\n",
        "    print(df[col_].isNull())"
      ],
      "metadata": {
        "colab": {
          "base_uri": "https://localhost:8080/"
        },
        "id": "tUY5624XkwrM",
        "outputId": "6b27282a-7682-4124-a67b-786e24bdcaea"
      },
      "execution_count": null,
      "outputs": [
        {
          "output_type": "stream",
          "name": "stdout",
          "text": [
            "Column<'(Buying_Price IS NULL)'>\n",
            "Column<'(Maintenance_Price IS NULL)'>\n",
            "Column<'(Doors IS NULL)'>\n",
            "Column<'(Persons IS NULL)'>\n",
            "Column<'(Luggages IS NULL)'>\n",
            "Column<'(Safety IS NULL)'>\n",
            "Column<'(Acceptability IS NULL)'>\n"
          ]
        }
      ]
    },
    {
      "cell_type": "code",
      "source": [
        "df=df.dropna()\n",
        "df.show(5,truncate=False)"
      ],
      "metadata": {
        "colab": {
          "base_uri": "https://localhost:8080/"
        },
        "id": "zkj5CApjpUY-",
        "outputId": "80a4005a-2911-4fe3-b79f-e95e3812ccbf"
      },
      "execution_count": null,
      "outputs": [
        {
          "output_type": "stream",
          "name": "stdout",
          "text": [
            "+------------+-----------------+-----+-------+--------+------+-------------+\n",
            "|Buying_Price|Maintenance_Price|Doors|Persons|Luggages|Safety|Acceptability|\n",
            "+------------+-----------------+-----+-------+--------+------+-------------+\n",
            "|vhigh       |vhigh            |2    |2      |small   |low   |unacc        |\n",
            "|vhigh       |vhigh            |2    |2      |small   |med   |unacc        |\n",
            "|vhigh       |vhigh            |2    |2      |small   |high  |unacc        |\n",
            "|vhigh       |vhigh            |2    |2      |med     |low   |unacc        |\n",
            "|vhigh       |vhigh            |2    |2      |med     |med   |unacc        |\n",
            "+------------+-----------------+-----+-------+--------+------+-------------+\n",
            "only showing top 5 rows\n",
            "\n"
          ]
        }
      ]
    },
    {
      "cell_type": "code",
      "source": [
        "(df.count(), len(df.columns))"
      ],
      "metadata": {
        "colab": {
          "base_uri": "https://localhost:8080/"
        },
        "id": "EsDqQUa3plgu",
        "outputId": "e14c7e30-1039-46ee-c89b-efcfa0c2bda5"
      },
      "execution_count": null,
      "outputs": [
        {
          "output_type": "execute_result",
          "data": {
            "text/plain": [
              "(6912, 7)"
            ]
          },
          "metadata": {},
          "execution_count": 17
        }
      ]
    },
    {
      "cell_type": "code",
      "source": [
        "df.groupBy(df.Maintenance_Price).count().show()"
      ],
      "metadata": {
        "colab": {
          "base_uri": "https://localhost:8080/"
        },
        "id": "xGdGJAQae39s",
        "outputId": "b0eace46-9638-4b0a-867f-43fb0520be1e"
      },
      "execution_count": null,
      "outputs": [
        {
          "output_type": "stream",
          "name": "stdout",
          "text": [
            "+-----------------+-----+\n",
            "|Maintenance_Price|count|\n",
            "+-----------------+-----+\n",
            "|              low| 1728|\n",
            "|            vhigh| 1728|\n",
            "|              med| 1728|\n",
            "|             high| 1728|\n",
            "+-----------------+-----+\n",
            "\n"
          ]
        }
      ]
    },
    {
      "cell_type": "code",
      "source": [
        "for cols in df.columns[:7]:\n",
        "  indexer = StringIndexer(inputCol=cols, outputCol=\"temp\")\n",
        "  df = indexer.fit(df).transform(df)\n",
        "  df=df.drop(cols).withColumnRenamed(\"temp\",cols)\n",
        "df.show(5)"
      ],
      "metadata": {
        "colab": {
          "base_uri": "https://localhost:8080/"
        },
        "id": "UQODsDA_vfnE",
        "outputId": "625fe29d-cdad-441a-b3e8-ab6aa2076982"
      },
      "execution_count": null,
      "outputs": [
        {
          "output_type": "stream",
          "name": "stdout",
          "text": [
            "+------------+-----------------+-----+-------+--------+------+-------------+\n",
            "|Buying_Price|Maintenance_Price|Doors|Persons|Luggages|Safety|Acceptability|\n",
            "+------------+-----------------+-----+-------+--------+------+-------------+\n",
            "|         3.0|              3.0|  0.0|    0.0|     2.0|   1.0|          0.0|\n",
            "|         3.0|              3.0|  0.0|    0.0|     2.0|   2.0|          0.0|\n",
            "|         3.0|              3.0|  0.0|    0.0|     2.0|   0.0|          0.0|\n",
            "|         3.0|              3.0|  0.0|    0.0|     1.0|   1.0|          0.0|\n",
            "|         3.0|              3.0|  0.0|    0.0|     1.0|   2.0|          0.0|\n",
            "+------------+-----------------+-----+-------+--------+------+-------------+\n",
            "only showing top 5 rows\n",
            "\n"
          ]
        }
      ]
    },
    {
      "cell_type": "code",
      "source": [
        "df.withColumn(\"Acceptability\",df.Acceptability.cast(\"Integer\")).show(5)"
      ],
      "metadata": {
        "colab": {
          "base_uri": "https://localhost:8080/"
        },
        "id": "DY4tjeQsUaLD",
        "outputId": "b7de957b-58fe-478c-a23a-799888a72878"
      },
      "execution_count": null,
      "outputs": [
        {
          "output_type": "stream",
          "name": "stdout",
          "text": [
            "+------------+-----------------+-----+-------+--------+------+-------------+\n",
            "|Buying_Price|Maintenance_Price|Doors|Persons|Luggages|Safety|Acceptability|\n",
            "+------------+-----------------+-----+-------+--------+------+-------------+\n",
            "|         3.0|              3.0|  0.0|    0.0|     2.0|   1.0|            0|\n",
            "|         3.0|              3.0|  0.0|    0.0|     2.0|   2.0|            0|\n",
            "|         3.0|              3.0|  0.0|    0.0|     2.0|   0.0|            0|\n",
            "|         3.0|              3.0|  0.0|    0.0|     1.0|   1.0|            0|\n",
            "|         3.0|              3.0|  0.0|    0.0|     1.0|   2.0|            0|\n",
            "+------------+-----------------+-----+-------+--------+------+-------------+\n",
            "only showing top 5 rows\n",
            "\n"
          ]
        }
      ]
    },
    {
      "cell_type": "code",
      "source": [
        "inputColumns = ['Buying_Price', 'Maintenance_Price', 'Doors', 'Persons', 'Luggages', 'Safety']\n",
        "outputColumn = \"features\""
      ],
      "metadata": {
        "id": "IBgTM0nuy4Mh"
      },
      "execution_count": null,
      "outputs": []
    },
    {
      "cell_type": "code",
      "source": [
        "for col_name in inputColumns:\n",
        "    df = df.withColumn(col_name, df[col_name].cast(IntegerType()))"
      ],
      "metadata": {
        "id": "oAryhdWEzWvB"
      },
      "execution_count": null,
      "outputs": []
    },
    {
      "cell_type": "code",
      "source": [
        "vector_assembler = VectorAssembler(inputCols=inputColumns, outputCol=outputColumn)"
      ],
      "metadata": {
        "id": "iDnrpgmxzfRo"
      },
      "execution_count": null,
      "outputs": []
    },
    {
      "cell_type": "code",
      "source": [
        "from pyspark.ml.classification import DecisionTreeClassifier\n",
        "from pyspark.ml import Pipeline"
      ],
      "metadata": {
        "id": "hZlLDyBaz1OQ"
      },
      "execution_count": null,
      "outputs": []
    },
    {
      "cell_type": "code",
      "source": [
        "dt_model = DecisionTreeClassifier(labelCol=\"Acceptability\", featuresCol=outputColumn)"
      ],
      "metadata": {
        "id": "Uy_KFTmXzqJY"
      },
      "execution_count": null,
      "outputs": []
    },
    {
      "cell_type": "code",
      "source": [
        "stages = [vector_assembler, dt_model]"
      ],
      "metadata": {
        "id": "Mk23pORTruY8"
      },
      "execution_count": null,
      "outputs": []
    },
    {
      "cell_type": "code",
      "source": [
        "pipeline = Pipeline(stages=stages)"
      ],
      "metadata": {
        "id": "A19LtzJj0Ku5"
      },
      "execution_count": null,
      "outputs": []
    },
    {
      "cell_type": "code",
      "source": [
        "(train_df2, test_df2) = df.randomSplit([0.8, 0.2], seed=11)"
      ],
      "metadata": {
        "id": "Xsdo1Gkv0UAx"
      },
      "execution_count": null,
      "outputs": []
    },
    {
      "cell_type": "code",
      "source": [
        "final_pipeline = pipeline.fit(train_df2)"
      ],
      "metadata": {
        "id": "WmC6_KBQ0cvo"
      },
      "execution_count": null,
      "outputs": []
    },
    {
      "cell_type": "code",
      "source": [
        "test_predictions_from_pipeline = final_pipeline.transform(test_df2)"
      ],
      "metadata": {
        "id": "pIR3FSKe0fmR"
      },
      "execution_count": null,
      "outputs": []
    },
    {
      "cell_type": "code",
      "source": [
        "test_predictions_from_pipeline.select(\"Acceptability\", \"prediction\").show(5)"
      ],
      "metadata": {
        "colab": {
          "base_uri": "https://localhost:8080/"
        },
        "id": "j3CHgU5x0jJJ",
        "outputId": "ae612ef1-cfe7-44e3-c1ef-8c83cde54c6e"
      },
      "execution_count": null,
      "outputs": [
        {
          "output_type": "stream",
          "name": "stdout",
          "text": [
            "+-------------+----------+\n",
            "|Acceptability|prediction|\n",
            "+-------------+----------+\n",
            "|          0.0|       0.0|\n",
            "|          0.0|       0.0|\n",
            "|          0.0|       0.0|\n",
            "|          0.0|       0.0|\n",
            "|          0.0|       0.0|\n",
            "+-------------+----------+\n",
            "only showing top 5 rows\n",
            "\n"
          ]
        }
      ]
    },
    {
      "cell_type": "code",
      "source": [
        "from pyspark.ml.evaluation import MulticlassClassificationEvaluator"
      ],
      "metadata": {
        "id": "VL5Qo7070qZB"
      },
      "execution_count": null,
      "outputs": []
    },
    {
      "cell_type": "code",
      "source": [
        "evaluator = MulticlassClassificationEvaluator(labelCol=\"Acceptability\", predictionCol=\"prediction\", metricName=\"accuracy\")"
      ],
      "metadata": {
        "id": "_gYT8fjj0wRB"
      },
      "execution_count": null,
      "outputs": []
    },
    {
      "cell_type": "code",
      "source": [
        "accuracy = evaluator.evaluate(test_predictions_from_pipeline)\n",
        "print(f\"Accuracy: {accuracy}\")"
      ],
      "metadata": {
        "colab": {
          "base_uri": "https://localhost:8080/"
        },
        "id": "oJwIPTnW02_o",
        "outputId": "bef55f8f-7d97-4f11-e3bf-9c0cb3b0d9cf"
      },
      "execution_count": null,
      "outputs": [
        {
          "output_type": "stream",
          "name": "stdout",
          "text": [
            "Accuracy: 0.895741556534508\n"
          ]
        }
      ]
    },
    {
      "cell_type": "code",
      "source": [
        "from sklearn.metrics import classification_report"
      ],
      "metadata": {
        "id": "JhCAhaeX0Ssp"
      },
      "execution_count": null,
      "outputs": []
    },
    {
      "cell_type": "code",
      "source": [
        "test_predictions_pd = test_predictions_from_pipeline.select(\"Acceptability\", \"prediction\").toPandas()"
      ],
      "metadata": {
        "id": "DPmeP_EPiKaU"
      },
      "execution_count": null,
      "outputs": []
    },
    {
      "cell_type": "code",
      "source": [
        "true_labels = test_predictions_pd[\"Acceptability\"].tolist()\n",
        "predicted_labels = test_predictions_pd[\"prediction\"].tolist()"
      ],
      "metadata": {
        "id": "3fwUB6Ts1OtZ"
      },
      "execution_count": null,
      "outputs": []
    },
    {
      "cell_type": "code",
      "source": [
        "report = classification_report(true_labels, predicted_labels)\n",
        "print(report)"
      ],
      "metadata": {
        "colab": {
          "base_uri": "https://localhost:8080/"
        },
        "id": "mgBEeggG1XHJ",
        "outputId": "26857a69-7b26-47a9-c34d-0ddebc8e7ac9"
      },
      "execution_count": null,
      "outputs": [
        {
          "output_type": "stream",
          "name": "stdout",
          "text": [
            "              precision    recall  f1-score   support\n",
            "\n",
            "         0.0       0.93      0.99      0.96      1057\n",
            "         1.0       0.92      0.58      0.71       246\n",
            "         2.0       0.00      0.00      0.00        31\n",
            "         3.0       0.34      1.00      0.51        28\n",
            "\n",
            "    accuracy                           0.90      1362\n",
            "   macro avg       0.55      0.64      0.55      1362\n",
            "weighted avg       0.90      0.90      0.89      1362\n",
            "\n"
          ]
        },
        {
          "output_type": "stream",
          "name": "stderr",
          "text": [
            "/usr/local/lib/python3.10/dist-packages/sklearn/metrics/_classification.py:1344: UndefinedMetricWarning: Precision and F-score are ill-defined and being set to 0.0 in labels with no predicted samples. Use `zero_division` parameter to control this behavior.\n",
            "  _warn_prf(average, modifier, msg_start, len(result))\n",
            "/usr/local/lib/python3.10/dist-packages/sklearn/metrics/_classification.py:1344: UndefinedMetricWarning: Precision and F-score are ill-defined and being set to 0.0 in labels with no predicted samples. Use `zero_division` parameter to control this behavior.\n",
            "  _warn_prf(average, modifier, msg_start, len(result))\n",
            "/usr/local/lib/python3.10/dist-packages/sklearn/metrics/_classification.py:1344: UndefinedMetricWarning: Precision and F-score are ill-defined and being set to 0.0 in labels with no predicted samples. Use `zero_division` parameter to control this behavior.\n",
            "  _warn_prf(average, modifier, msg_start, len(result))\n"
          ]
        }
      ]
    },
    {
      "cell_type": "markdown",
      "source": [
        "**HyperParameter Tuning**"
      ],
      "metadata": {
        "id": "lgOvNNCWfLZW"
      }
    },
    {
      "cell_type": "code",
      "source": [
        "from pyspark.ml.tuning import CrossValidator, ParamGridBuilder\n",
        "from pyspark.ml.feature import OneHotEncoder"
      ],
      "metadata": {
        "id": "_-g6DzsQVBse"
      },
      "execution_count": null,
      "outputs": []
    },
    {
      "cell_type": "code",
      "source": [
        "paramGrid = ParamGridBuilder() \\\n",
        "    .addGrid(dt_model.maxDepth, [3, 5, 7]) \\\n",
        "    .addGrid(dt_model.minInstancesPerNode, [1, 3, 5]) \\\n",
        "    .build()"
      ],
      "metadata": {
        "id": "wB2qsedCGdL9"
      },
      "execution_count": null,
      "outputs": []
    },
    {
      "cell_type": "code",
      "source": [
        "crossval = CrossValidator(estimator=pipeline, estimatorParamMaps=paramGrid,\n",
        "                      evaluator=MulticlassClassificationEvaluator(\n",
        "                      labelCol='Acceptability', predictionCol='prediction', metricName='accuracy'),\n",
        "                      numFolds=5)\n",
        "\n",
        "cvModel = crossval.fit(train_df2)"
      ],
      "metadata": {
        "id": "L34XDEDiVAs1"
      },
      "execution_count": null,
      "outputs": []
    },
    {
      "cell_type": "code",
      "source": [
        "best_model = cvModel.bestModel\n",
        "predictions = best_model.transform(test_df2)"
      ],
      "metadata": {
        "id": "ApCfoEugV3QC"
      },
      "execution_count": null,
      "outputs": []
    },
    {
      "cell_type": "code",
      "source": [
        "evaluator = MulticlassClassificationEvaluator(labelCol=\"Acceptability\", predictionCol=\"prediction\", metricName=\"accuracy\")\n",
        "accuracy = evaluator.evaluate(predictions)"
      ],
      "metadata": {
        "id": "seH4zV9wWV_E"
      },
      "execution_count": null,
      "outputs": []
    },
    {
      "cell_type": "code",
      "source": [
        "print(f\"Accuracy: {accuracy}\")"
      ],
      "metadata": {
        "colab": {
          "base_uri": "https://localhost:8080/"
        },
        "id": "RlaU1vF4Wc6f",
        "outputId": "c5d59fae-fb7c-45e1-f170-a4895c243b90"
      },
      "execution_count": null,
      "outputs": [
        {
          "output_type": "stream",
          "name": "stdout",
          "text": [
            "Accuracy: 0.9419970631424376\n"
          ]
        }
      ]
    },
    {
      "cell_type": "markdown",
      "source": [
        "RandomForest"
      ],
      "metadata": {
        "id": "vrFRH4tpfF8h"
      }
    },
    {
      "cell_type": "code",
      "source": [
        "from pyspark.ml.classification import RandomForestClassifier\n",
        "rf = RandomForestClassifier(labelCol=\"Acceptability\", featuresCol=outputColumn, numTrees=100)"
      ],
      "metadata": {
        "id": "CCvAGvctWgxO"
      },
      "execution_count": null,
      "outputs": []
    },
    {
      "cell_type": "code",
      "source": [
        "pipeline2 = Pipeline(stages=[vector_assembler,rf])"
      ],
      "metadata": {
        "id": "s1Jj_Yzmd_9l"
      },
      "execution_count": null,
      "outputs": []
    },
    {
      "cell_type": "code",
      "source": [
        "rf_model = pipeline.fit(train_df2)"
      ],
      "metadata": {
        "id": "b0mnvXd1eQ1C"
      },
      "execution_count": null,
      "outputs": []
    },
    {
      "cell_type": "code",
      "source": [
        "rf_predictions = rf_model.transform(test_df2)"
      ],
      "metadata": {
        "id": "JgpSp918ecWz"
      },
      "execution_count": null,
      "outputs": []
    },
    {
      "cell_type": "code",
      "source": [
        "evaluator = MulticlassClassificationEvaluator(labelCol=\"Acceptability\", predictionCol=\"prediction\", metricName=\"accuracy\")\n",
        "accuracy2 = evaluator.evaluate(rf_predictions)"
      ],
      "metadata": {
        "id": "GlUPembWehKH"
      },
      "execution_count": null,
      "outputs": []
    },
    {
      "cell_type": "code",
      "source": [
        "print(f\"Accuracy: {accuracy2}\")"
      ],
      "metadata": {
        "colab": {
          "base_uri": "https://localhost:8080/"
        },
        "id": "L6ZRvgr8ez1n",
        "outputId": "298b9495-7348-42fa-cb75-88dd9baedf57"
      },
      "execution_count": null,
      "outputs": [
        {
          "output_type": "stream",
          "name": "stdout",
          "text": [
            "Accuracy: 0.895741556534508\n"
          ]
        }
      ]
    },
    {
      "cell_type": "code",
      "source": [
        "paramGrid2 = ParamGridBuilder() \\\n",
        "    .addGrid(rf.numTrees, [5, 7, 9]) \\\n",
        "    .addGrid(rf.maxDepth, [3, 5, 7]) \\\n",
        "    .addGrid(rf.featureSubsetStrategy, [\"auto\", \"sqrt\", \"log2\"]) \\\n",
        "    .build()"
      ],
      "metadata": {
        "id": "pA-wSV0pe-ES"
      },
      "execution_count": null,
      "outputs": []
    },
    {
      "cell_type": "code",
      "source": [
        "crossval2 = CrossValidator(estimator=pipeline2, estimatorParamMaps=paramGrid2,\n",
        "                      evaluator=MulticlassClassificationEvaluator(\n",
        "                      labelCol='Acceptability', predictionCol='prediction', metricName='accuracy'),\n",
        "                      numFolds=5)\n",
        "\n",
        "cvModel2 = crossval2.fit(train_df2)"
      ],
      "metadata": {
        "id": "jWkwxp8MgwdF"
      },
      "execution_count": null,
      "outputs": []
    },
    {
      "cell_type": "code",
      "source": [
        "best_model2 = cvModel2.bestModel\n",
        "predictions2 = best_model2.transform(test_df2)"
      ],
      "metadata": {
        "id": "vlJd6vDqhNzu"
      },
      "execution_count": null,
      "outputs": []
    },
    {
      "cell_type": "code",
      "source": [
        "evaluator = MulticlassClassificationEvaluator(labelCol=\"Acceptability\", predictionCol=\"prediction\", metricName=\"accuracy\")\n",
        "accuracy_rf = evaluator.evaluate(predictions)"
      ],
      "metadata": {
        "id": "-utZAi1xhYJI"
      },
      "execution_count": null,
      "outputs": []
    },
    {
      "cell_type": "code",
      "source": [
        "print(f\"Accuracy: {accuracy_rf}\")"
      ],
      "metadata": {
        "colab": {
          "base_uri": "https://localhost:8080/"
        },
        "id": "pX9Psm30hh-0",
        "outputId": "30690dc5-2ca4-4a66-de63-49fee51e5b94"
      },
      "execution_count": null,
      "outputs": [
        {
          "output_type": "stream",
          "name": "stdout",
          "text": [
            "Accuracy: 0.9419970631424376\n"
          ]
        }
      ]
    },
    {
      "cell_type": "code",
      "source": [],
      "metadata": {
        "id": "6MBJMukBhkoM"
      },
      "execution_count": null,
      "outputs": []
    }
  ]
}